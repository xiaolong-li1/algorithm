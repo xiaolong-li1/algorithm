{
 "cells": [
  {
   "cell_type": "markdown",
   "metadata": {},
   "source": [
    "# PCA 进行数据降维并应用于 MNIST 数据集\n",
    "\n",
    "本 notebook 演示了如何使用 PCA（主成分分析）对数据进行降维，并将其应用于 MNIST 数据集。然后我们将使用降维后的数据训练一个简单的多层感知机（MLP）模型。\n",
    "\n",
    "## 导入必要的库\n"
   ]
  },
  {
   "cell_type": "code",
   "execution_count": 2,
   "metadata": {},
   "outputs": [],
   "source": [
    "import numpy as np\n",
    "import pandas as pd\n",
    "import matplotlib.pyplot as plt\n",
    "import torch\n",
    "import torch.nn as nn\n",
    "import torch.optim as optim\n",
    "from torch.utils.data import TensorDataset\n",
    "from torchvision import datasets, transforms\n",
    "from scipy.io import loadmat\n",
    "from numpy.linalg import svd"
   ]
  },
  {
   "cell_type": "markdown",
   "metadata": {},
   "source": [
    "## 定义数据转换\n",
    "\n",
    "我们将使用 `ToTensor` 将图像数据转换为张量，并使用 `Normalize` 进行标准化。\n"
   ]
  },
  {
   "cell_type": "code",
   "execution_count": 3,
   "metadata": {},
   "outputs": [],
   "source": [
    "transform = transforms.Compose([\n",
    "    transforms.ToTensor(),\n",
    "    transforms.Normalize((0.5,), (0.5,))\n",
    "])"
   ]
  },
  {
   "cell_type": "markdown",
   "metadata": {},
   "source": [
    "## 定义 PCA 相关函数\n",
    "\n",
    "以下函数将用于进行 PCA 降维。"
   ]
  },
  {
   "cell_type": "code",
   "execution_count": 4,
   "metadata": {},
   "outputs": [],
   "source": [
    "def pca(X):\n",
    "    # normalize the features\n",
    "    X = (X - X.mean()) / X.std()\n",
    "    \n",
    "    # compute the covariance matrix\n",
    "    X = np.matrix(X)\n",
    "    cov = (X.T * X) / X.shape[0]\n",
    "    \n",
    "    # perform SVD\n",
    "    U, S, V = np.linalg.svd(cov)\n",
    "    \n",
    "    return U, S, V\n",
    "\n",
    "def project_data(X, U, k):\n",
    "    U_reduced = U[:,:k]\n",
    "    return np.dot(X, U_reduced)\n",
    "\n",
    "def recover_data(Z, U, k):\n",
    "    U_reduced = U[:,:k]\n",
    "    return np.dot(Z, U_reduced.T)"
   ]
  },
  {
   "cell_type": "markdown",
   "metadata": {},
   "source": [
    "## 加载和处理数据\n",
    "\n",
    "我们将下载和加载 MNIST 数据集，然后对数据进行降维处理。"
   ]
  },
  {
   "cell_type": "code",
   "execution_count": 48,
   "metadata": {},
   "outputs": [],
   "source": [
    "#定义一个全局变量让下面的代码更好看\n",
    "global_k=0\n",
    "U=None\n",
    "V=None\n",
    "S=None"
   ]
  },
  {
   "cell_type": "code",
   "execution_count": 50,
   "metadata": {},
   "outputs": [
    {
     "name": "stdout",
     "output_type": "stream",
     "text": [
      "k_value:  458 \n",
      "num_samples:  60000\n",
      "k_value:  458 \n",
      "num_samples:  10000\n"
     ]
    }
   ],
   "source": [
    "def find_k(S, rate):\n",
    "    global global_k\n",
    "    if(global_k!=0):\n",
    "        return global_k\n",
    "    level = np.square(S).sum() * rate\n",
    "    cumulative_sum = np.cumsum(np.square(S))\n",
    "    k = np.searchsorted(cumulative_sum, level) + 1\n",
    "    global_k=k\n",
    "    return k\n",
    "\n",
    "def trans(trainset, rate=0.90):\n",
    "    global U,V,\n",
    "    # 获取所有的训练数据\n",
    "    train_data = trainset.data.numpy()\n",
    "    num_samples, height, width = train_data.shape\n",
    "\n",
    "    # 将二维图像数据转换为一维向量\n",
    "    train_data_flat = train_data.reshape(num_samples, -1)\n",
    "\n",
    "    # 计算SVD\n",
    "    if(not(U & V)):\n",
    "        U, S, V = np.linalg.svd(train_data_flat, full_matrices=False)\n",
    "    k = find_k(S, rate)\n",
    "    print(\"k_value: \",k,\"\\nnum_samples: \",num_samples)\n",
    "    \n",
    "    # 降维处理\n",
    "    train_data_reduced = np.dot(train_data_flat, V[:k].T)\n",
    "\n",
    "    # 创建新的数据集，并替换原始数据集的训练部分\n",
    "    trainset_reduced = TensorDataset(torch.tensor(train_data_reduced).float(), trainset.targets)\n",
    "    return trainset_reduced\n",
    "\n",
    "# 下载和加载训练集\n",
    "trainset = datasets.MNIST('~/.pytorch/MNIST_data/', download=True, train=True, transform=transform)\n",
    "trainset_reduced = trans(trainset)\n",
    "\n",
    "trainloader = torch.utils.data.DataLoader(trainset_reduced, batch_size=64, shuffle=True,drop_last=True)\n",
    "\n",
    "# 下载和加载测试集\n",
    "testset = datasets.MNIST('~/.pytorch/MNIST_data/', download=True, train=False, transform=transform)\n",
    "testset_reduced = trans(testset)\n",
    "testloader = torch.utils.data.DataLoader(testset_reduced, batch_size=64, shuffle=False)\n"
   ]
  },
  {
   "cell_type": "markdown",
   "metadata": {},
   "source": [
    "## 定义 MLP 模型\n",
    "\n",
    "我们将定义一个简单的多层感知机（MLP）模型。"
   ]
  },
  {
   "cell_type": "code",
   "execution_count": 37,
   "metadata": {},
   "outputs": [],
   "source": [
    "import math\n",
    "class MLP(nn.Module):\n",
    "    def __init__(self, input_size):\n",
    "        super(MLP, self).__init__()\n",
    "        self.fc1 = nn.Linear(input_size, 128)\n",
    "        self.fc2 = nn.Linear(128, 64)\n",
    "        self.fc3 = nn.Linear(64, 10)\n",
    "        \n",
    "        # 初始化参数\n",
    "        self._initialize_weights()\n",
    "\n",
    "    def forward(self, x):\n",
    "        x = torch.relu(self.fc1(x))\n",
    "        x = torch.relu(self.fc2(x))\n",
    "        x = self.fc3(x)\n",
    "        return torch.log_softmax(x, dim=1)\n",
    "    \n",
    "    def _initialize_weights(self):\n",
    "    # 使用何凯明方法初始化模型参数\n",
    "        for layer in self.children():\n",
    "            if isinstance(layer, nn.Linear):\n",
    "                nn.init.kaiming_normal_(layer.weight, nonlinearity='relu')\n",
    "                if layer.bias is not None:\n",
    "                    fan_in, _ = nn.init._calculate_fan_in_and_fan_out(layer.weight)\n",
    "                    bound = 1 / math.sqrt(fan_in)\n",
    "                    nn.init.uniform_(layer.bias, -bound, bound)\n"
   ]
  },
  {
   "cell_type": "markdown",
   "metadata": {},
   "source": [
    "## 训练和评估模型\n",
    "\n",
    "我们将定义训练和评估模型的函数。\n"
   ]
  },
  {
   "cell_type": "code",
   "execution_count": 41,
   "metadata": {},
   "outputs": [],
   "source": [
    "def train(model, train_loader, optimizer, criterion, epochs=25):\n",
    "    model.train()\n",
    "    train_losses = []\n",
    "    test_losses = []\n",
    "    test_accuracies = []\n",
    "    for epoch in range(epochs):\n",
    "        running_loss = 0.0\n",
    "        for i, data in enumerate(train_loader, 0):\n",
    "            inputs, labels = data\n",
    "            optimizer.zero_grad()\n",
    "            outputs = model(inputs)\n",
    "            loss = criterion(outputs, labels)\n",
    "            loss.backward()\n",
    "            optimizer.step()\n",
    "            running_loss += loss.item()\n",
    "            if i % 100 == 99:\n",
    "                print('[%d, %5d] loss: %.3f' %\n",
    "                      (epoch + 1, i + 1, running_loss / 100))\n",
    "                running_loss = 0.0\n",
    "        train_losses.append(running_loss)\n",
    "        test_loss, test_accuracy = test(model, testloader, criterion)\n",
    "        test_losses.append(test_loss)\n",
    "        test_accuracies.append(test_accuracy)\n",
    "        print(f'Epoch {epoch+1}/{epochs}, Test Loss: {test_loss:.4f}, Test Accuracy: {test_accuracy:.4f}')\n",
    "    plot_results(train_losses, test_losses, test_accuracies)\n",
    "\n",
    "def test(model, test_loader, criterion):\n",
    "    model.eval()\n",
    "    test_loss = 0\n",
    "    correct = 0\n",
    "    with torch.no_grad():\n",
    "        for data, target in test_loader:\n",
    "            output = model(data)\n",
    "            test_loss += criterion(output, target).item()\n",
    "            pred = output.argmax(dim=1, keepdim=True)\n",
    "            correct += pred.eq(target.view_as(pred)).sum().item()\n",
    "\n",
    "    test_loss /= len(test_loader.dataset)\n",
    "    accuracy = correct / len(test_loader.dataset)\n",
    "    return test_loss, accuracy\n",
    "\n",
    "def plot_results(train_losses, test_losses, test_accuracies):\n",
    "    epochs = range(1, len(train_losses) + 1)\n",
    "    \n",
    "    plt.figure(figsize=(10, 5))\n",
    "    \n",
    "    # 绘制训练和测试损失\n",
    "    plt.subplot(1, 2, 1)\n",
    "    plt.plot(epochs, train_losses, label='Training Loss')\n",
    "    plt.plot(epochs, test_losses, label='Test Loss')\n",
    "    plt.xlabel('Epoch')\n",
    "    plt.ylabel('Loss')\n",
    "    plt.title('Training and Test Loss')\n",
    "    plt.legend()\n",
    "    \n",
    "    # 绘制测试准确率\n",
    "    plt.subplot(1, 2, 2)\n",
    "    plt.plot(epochs, test_accuracies, label='Test Accuracy', color='green')\n",
    "    plt.xlabel('Epoch')\n",
    "    plt.ylabel('Accuracy')\n",
    "    plt.title('Test Accuracy')\n",
    "    plt.legend()\n",
    "    \n",
    "    plt.tight_layout()\n",
    "    plt.show()\n",
    "\n"
   ]
  },
  {
   "cell_type": "markdown",
   "metadata": {},
   "source": [
    "## 初始化和训练模型\n"
   ]
  },
  {
   "cell_type": "code",
   "execution_count": 42,
   "metadata": {},
   "outputs": [
    {
     "name": "stdout",
     "output_type": "stream",
     "text": [
      "[1,   100] loss: 33.293\n",
      "[1,   200] loss: 2.509\n",
      "[1,   300] loss: 2.179\n",
      "[1,   400] loss: 2.116\n",
      "[1,   500] loss: 2.084\n",
      "[1,   600] loss: 2.048\n",
      "[1,   700] loss: 1.981\n",
      "[1,   800] loss: 1.926\n",
      "[1,   900] loss: 1.904\n",
      "Epoch 1/5, Test Loss: 0.0716, Test Accuracy: 0.1716\n",
      "[2,   100] loss: 1.833\n",
      "[2,   200] loss: 1.791\n",
      "[2,   300] loss: 1.788\n",
      "[2,   400] loss: 1.782\n",
      "[2,   500] loss: 1.766\n",
      "[2,   600] loss: 1.780\n",
      "[2,   700] loss: 1.733\n",
      "[2,   800] loss: 1.716\n",
      "[2,   900] loss: 1.683\n",
      "Epoch 2/5, Test Loss: 0.0857, Test Accuracy: 0.1828\n",
      "[3,   100] loss: 1.669\n",
      "[3,   200] loss: 1.613\n",
      "[3,   300] loss: 1.627\n",
      "[3,   400] loss: 1.607\n",
      "[3,   500] loss: 1.586\n",
      "[3,   600] loss: 1.530\n",
      "[3,   700] loss: 1.525\n",
      "[3,   800] loss: 1.565\n",
      "[3,   900] loss: 1.558\n",
      "Epoch 3/5, Test Loss: 0.0964, Test Accuracy: 0.1225\n",
      "[4,   100] loss: 1.470\n",
      "[4,   200] loss: 1.481\n",
      "[4,   300] loss: 1.455\n",
      "[4,   400] loss: 1.453\n",
      "[4,   500] loss: 1.419\n",
      "[4,   600] loss: 1.475\n",
      "[4,   700] loss: 1.424\n",
      "[4,   800] loss: 1.406\n",
      "[4,   900] loss: 1.424\n",
      "Epoch 4/5, Test Loss: 0.1061, Test Accuracy: 0.1657\n",
      "[5,   100] loss: 1.354\n",
      "[5,   200] loss: 1.394\n",
      "[5,   300] loss: 1.396\n",
      "[5,   400] loss: 1.348\n",
      "[5,   500] loss: 1.328\n",
      "[5,   600] loss: 1.342\n",
      "[5,   700] loss: 1.288\n",
      "[5,   800] loss: 1.233\n",
      "[5,   900] loss: 1.235\n",
      "Epoch 5/5, Test Loss: 0.1588, Test Accuracy: 0.1610\n"
     ]
    },
    {
     "data": {
      "image/png": "[encoded data removed]",
      "text/plain": [
       "<Figure size 1000x500 with 2 Axes>"
      ]
     },
     "metadata": {},
     "output_type": "display_data"
    }
   ],
   "source": [
    "input_size = trainset_reduced[0][0].shape[0]\n",
    "model = MLP(input_size)\n",
    "\n",
    "# 定义损失函数和优化器\n",
    "criterion = nn.CrossEntropyLoss()\n",
    "optimizer = optim.SGD(model.parameters(), lr=0.0005)\n",
    "\n",
    "# 训练模型\n",
    "train(model, trainloader, optimizer, criterion, epochs=5)\n"
   ]
  }
 ],
 "metadata": {
  "kernelspec": {
   "display_name": "math",
   "language": "python",
   "name": "python3"
  },
  "language_info": {
   "codemirror_mode": {
    "name": "ipython",
    "version": 3
   },
   "file_extension": ".py",
   "mimetype": "text/x-python",
   "name": "python",
   "nbconvert_exporter": "python",
   "pygments_lexer": "ipython3",
   "version": "3.10.12"
  }
 },
 "nbformat": 4,
 "nbformat_minor": 2
}
